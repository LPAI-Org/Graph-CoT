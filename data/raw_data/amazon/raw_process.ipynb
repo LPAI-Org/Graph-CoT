{
 "cells": [
  {
   "cell_type": "code",
   "execution_count": 1,
   "metadata": {},
   "outputs": [],
   "source": [
    "import os\n",
    "import json\n",
    "from tqdm import tqdm\n",
    "\n",
    "import pickle"
   ]
  },
  {
   "cell_type": "code",
   "execution_count": 2,
   "metadata": {},
   "outputs": [],
   "source": [
    "## nodes: items, brands\n",
    "## item features: title, description, category, price, img\n",
    "## item edges: also_viewed, buy_after_viewing, also_bought, bought_together\n",
    "## brand features: name"
   ]
  },
  {
   "cell_type": "code",
   "execution_count": 3,
   "metadata": {},
   "outputs": [],
   "source": [
    "raw_data_dir=\"/home/ec2-user/quic-efs/user/bowenjin/llm-graph-plugin/data/raw_data/amazon\"\n",
    "save_dir=\"/home/ec2-user/quic-efs/user/bowenjin/llm-graph-plugin/data/processed_data/amazon\""
   ]
  },
  {
   "cell_type": "code",
   "execution_count": 4,
   "metadata": {},
   "outputs": [
    {
     "name": "stderr",
     "output_type": "stream",
     "text": [
      "100%|██████████| 9430088/9430088 [13:44<00:00, 11442.15it/s] \n"
     ]
    }
   ],
   "source": [
    "## read raw data files\n",
    "\n",
    "def read_json_lines(file, id_key):\n",
    "    data = {}\n",
    "    with open(file) as f:\n",
    "        readin = f.readlines()\n",
    "        for line in tqdm(readin):\n",
    "            #tmp = json.loads(line)\n",
    "            tmp = eval(line)\n",
    "            data[tmp[id_key]] = tmp\n",
    "    return data\n",
    "\n",
    "item_raw_data = read_json_lines(os.path.join(raw_data_dir, 'metadata.json'), 'asin')"
   ]
  },
  {
   "cell_type": "code",
   "execution_count": 5,
   "metadata": {},
   "outputs": [
    {
     "data": {
      "text/plain": [
       "['0001048791', '0000143561', '0000037214', '0000032069', '0000031909']"
      ]
     },
     "execution_count": 5,
     "metadata": {},
     "output_type": "execute_result"
    }
   ],
   "source": [
    "list(item_raw_data.keys())[:5]"
   ]
  },
  {
   "cell_type": "code",
   "execution_count": 6,
   "metadata": {},
   "outputs": [
    {
     "data": {
      "text/plain": [
       "{'asin': '0000143561',\n",
       " 'categories': [['Movies & TV', 'Movies']],\n",
       " 'description': '3Pack DVD set - Italian Classics, Parties and Holidays.',\n",
       " 'title': 'Everyday Italian (with Giada de Laurentiis), Volume 1 (3 Pack): Italian Classics, Parties, Holidays',\n",
       " 'price': 12.99,\n",
       " 'salesRank': {'Movies & TV': 376041},\n",
       " 'imUrl': 'http://g-ecx.images-amazon.com/images/G/01/x-site/icons/no-img-sm._CB192198896_.gif',\n",
       " 'related': {'also_viewed': ['B0036FO6SI',\n",
       "   'B000KL8ODE',\n",
       "   '000014357X',\n",
       "   'B0037718RC',\n",
       "   'B002I5GNVU',\n",
       "   'B000RBU4BM'],\n",
       "  'buy_after_viewing': ['B0036FO6SI',\n",
       "   'B000KL8ODE',\n",
       "   '000014357X',\n",
       "   'B0037718RC']}}"
      ]
     },
     "execution_count": 6,
     "metadata": {},
     "output_type": "execute_result"
    }
   ],
   "source": [
    "item_raw_data['0000143561']"
   ]
  },
  {
   "cell_type": "code",
   "execution_count": 7,
   "metadata": {},
   "outputs": [
    {
     "name": "stderr",
     "output_type": "stream",
     "text": [
      "  0%|          | 0/9430088 [00:00<?, ?it/s]"
     ]
    },
    {
     "name": "stderr",
     "output_type": "stream",
     "text": [
      "100%|██████████| 9430088/9430088 [00:13<00:00, 712206.69it/s]"
     ]
    },
    {
     "name": "stdout",
     "output_type": "stream",
     "text": [
      "{'bought_together', 'buy_after_viewing', 'also_bought', 'also_viewed'}\n"
     ]
    },
    {
     "name": "stderr",
     "output_type": "stream",
     "text": [
      "\n"
     ]
    }
   ],
   "source": [
    "related_name = set()\n",
    "for itt in tqdm(item_raw_data):\n",
    "    if \"related\" in item_raw_data[itt]:\n",
    "        for kk in item_raw_data[itt]['related'].keys():\n",
    "            related_name.add(kk)\n",
    "print(related_name)"
   ]
  },
  {
   "cell_type": "code",
   "execution_count": 8,
   "metadata": {},
   "outputs": [
    {
     "name": "stderr",
     "output_type": "stream",
     "text": [
      "  0%|          | 0/9430088 [00:00<?, ?it/s]"
     ]
    },
    {
     "name": "stderr",
     "output_type": "stream",
     "text": [
      "100%|██████████| 9430088/9430088 [03:20<00:00, 47132.20it/s] \n",
      "100%|██████████| 9430088/9430088 [27:19<00:00, 5750.16it/s] \n"
     ]
    }
   ],
   "source": [
    "## construct node dictionary\n",
    "## item features: title, description, category, price, img\n",
    "## item edges: also_viewed, buy_after_viewing, also_bought, bought_together\n",
    "## item neighbors: item, brand\n",
    "\n",
    "## brand features: name\n",
    "## brand neighbors: item\n",
    "\n",
    "item_nodes = {}\n",
    "brand_nodes = {}\n",
    "\n",
    "brand_name2id = {}\n",
    "\n",
    "for item_id in tqdm(item_raw_data):\n",
    "    \n",
    "    # brand nodes\n",
    "    if 'brand' in item_raw_data[item_id] and item_raw_data[item_id]['brand'] != '':\n",
    "        if item_raw_data[item_id]['brand'] not in brand_name2id:\n",
    "            idd = f'brand_{len(brand_nodes)}'\n",
    "            brand_name2id[item_raw_data[item_id]['brand']] = idd\n",
    "            brand_nodes[idd] = {'features': {}, 'neighbors': {}}\n",
    "            brand_nodes[idd]['features']['name'] = item_raw_data[item_id]['brand']\n",
    "            brand_nodes[idd]['neighbors']['item'] = [item_id]\n",
    "        else:\n",
    "            brand_nodes[brand_name2id[item_raw_data[item_id]['brand']]]['neighbors']['item'].append(item_id)\n",
    "\n",
    "    # item nodes\n",
    "    item_nodes[item_id] = {'features': {}, 'neighbors': {}}\n",
    "    ## add features\n",
    "    item_nodes[item_id]['features']['title'] = item_raw_data[item_id]['title'] if \"title\" in item_raw_data[item_id] else ''\n",
    "    item_nodes[item_id]['features']['description'] = item_raw_data[item_id]['description'] if \"description\" in item_raw_data[item_id] else ''\n",
    "    item_nodes[item_id]['features']['price'] = item_raw_data[item_id]['price'] if \"price\" in item_raw_data[item_id] else ''\n",
    "    item_nodes[item_id]['features']['img'] = item_raw_data[item_id]['imUrl'] if \"imUrl\" in item_raw_data[item_id] else ''\n",
    "    item_nodes[item_id]['features']['category'] = [','.join(c) for c in item_raw_data[item_id]['categories']] if \"categories\" in item_raw_data[item_id] else []\n",
    "    ## add neighbors\n",
    "    if 'related' in item_raw_data[item_id]:\n",
    "        item_nodes[item_id]['neighbors']['also_viewed_item'] = item_raw_data[item_id]['related']['also_viewed'] if \"also_viewed\" in item_raw_data[item_id]['related'] else []\n",
    "        item_nodes[item_id]['neighbors']['buy_after_viewing_item'] = item_raw_data[item_id]['related']['buy_after_viewing'] if \"buy_after_viewing\" in item_raw_data[item_id]['related'] else []\n",
    "        item_nodes[item_id]['neighbors']['also_bought_item'] = item_raw_data[item_id]['related']['also_bought'] if \"also_bought\" in item_raw_data[item_id]['related'] else []\n",
    "        item_nodes[item_id]['neighbors']['bought_together_item'] = item_raw_data[item_id]['related']['bought_together'] if \"bought_together\" in item_raw_data[item_id]['related'] else []\n",
    "    else:\n",
    "        item_nodes[item_id]['neighbors']['also_viewed_item'] = []\n",
    "        item_nodes[item_id]['neighbors']['buy_after_viewing_item'] = []\n",
    "        item_nodes[item_id]['neighbors']['also_bought_item'] = []\n",
    "        item_nodes[item_id]['neighbors']['bought_together_item'] = []\n",
    "    item_nodes[item_id]['neighbors']['brand'] = [brand_name2id[item_raw_data[item_id]['brand']]] if ('brand' in item_raw_data[item_id] and item_raw_data[item_id]['brand'] != '') else []\n",
    "\n",
    "# make the edges bidirectional\n",
    "for item_id in tqdm(item_nodes):\n",
    "    for rel in ['also_viewed_item', 'also_bought_item', 'bought_together_item']:\n",
    "        for nid in item_nodes[item_id]['neighbors'][rel]:\n",
    "            if nid not in item_nodes:\n",
    "                item_nodes[item_id]['neighbors'][rel].remove(nid)\n",
    "                continue\n",
    "            if item_id not in item_nodes[nid]['neighbors'][rel]:\n",
    "                item_nodes[nid]['neighbors'][rel].append(item_id)"
   ]
  },
  {
   "cell_type": "code",
   "execution_count": 9,
   "metadata": {},
   "outputs": [],
   "source": [
    "## save graph\n",
    "#pickle.dump({\n",
    "#    'item_nodes': item_nodes,\n",
    "#    'brand_nodes': brand_nodes,\n",
    "#}, open(os.path.join(save_dir, 'graph.pkl'),\"wb\"))\n",
    "\n",
    "json.dump({\n",
    "    'item_nodes': item_nodes,\n",
    "    'brand_nodes': brand_nodes,\n",
    "}, open(os.path.join(save_dir, 'graph.json'),\"w\"), indent=4)"
   ]
  }
 ],
 "metadata": {
  "kernelspec": {
   "display_name": "transformers-latest",
   "language": "python",
   "name": "python3"
  },
  "language_info": {
   "codemirror_mode": {
    "name": "ipython",
    "version": 3
   },
   "file_extension": ".py",
   "mimetype": "text/x-python",
   "name": "python",
   "nbconvert_exporter": "python",
   "pygments_lexer": "ipython3",
   "version": "3.8.18"
  },
  "orig_nbformat": 4
 },
 "nbformat": 4,
 "nbformat_minor": 2
}
